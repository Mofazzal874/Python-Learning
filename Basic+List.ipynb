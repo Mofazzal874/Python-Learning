{
 "cells": [
  {
   "cell_type": "markdown",
   "metadata": {},
   "source": [
    "### **Basic Codes to start with** ###"
   ]
  },
  {
   "cell_type": "code",
   "execution_count": 59,
   "metadata": {},
   "outputs": [
    {
     "name": "stdout",
     "output_type": "stream",
     "text": [
      "hello World\n"
     ]
    }
   ],
   "source": [
    "print('hello World')"
   ]
  },
  {
   "cell_type": "code",
   "execution_count": 60,
   "metadata": {},
   "outputs": [
    {
     "name": "stdout",
     "output_type": "stream",
     "text": [
      "Hello Mofazzal\n",
      "you are Mofazzal and your age is 22\n"
     ]
    }
   ],
   "source": [
    "name = input(\"please enter your name:\")\n",
    "print(\"Hello \" + name)\n",
    "age = 22 \n",
    "print(\"you are \" + name + \" and your age is \" + str(age))"
   ]
  },
  {
   "cell_type": "code",
   "execution_count": 61,
   "metadata": {},
   "outputs": [
    {
     "name": "stdout",
     "output_type": "stream",
     "text": [
      "24\n"
     ]
    }
   ],
   "source": [
    "old_age = input(\"Enter your Age: \")\n",
    "print(int(old_age) + 2)"
   ]
  },
  {
   "cell_type": "markdown",
   "metadata": {},
   "source": [
    "**Usefull Conversion functions:**\n",
    "\n",
    "   - float()\n",
    "   - bool()\n",
    "   - str()\n",
    "   - int()\n"
   ]
  },
  {
   "cell_type": "markdown",
   "metadata": {},
   "source": [
    "### **String Operation**"
   ]
  },
  {
   "cell_type": "code",
   "execution_count": 63,
   "metadata": {},
   "outputs": [
    {
     "name": "stdout",
     "output_type": "stream",
     "text": [
      "TONY STARK\n",
      "tony stark\n"
     ]
    }
   ],
   "source": [
    "name = \"Tony Stark\"\n",
    "print(name.upper())\n",
    "print(name.lower())\n"
   ]
  },
  {
   "cell_type": "markdown",
   "metadata": {},
   "source": [
    "### Note:\n",
    "**Upper() and Lower() function doesn't change the original string , it returns a copy of the changed string.**\n",
    "\n",
    "\n",
    "\n",
    "\n",
    "\n",
    "## Find() operation in python:\n",
    "- find()\n",
    "it returns the index where it found the substring, otherwise -1\n",
    "- find(\"substring\" in string) \n",
    "returns True or False if found or not\n",
    "- replace(\"string that needes to be replaces\" , \"to replace with\")"
   ]
  },
  {
   "cell_type": "code",
   "execution_count": null,
   "metadata": {},
   "outputs": [],
   "source": [
    "name = \"Tony Stark\"\n",
    "print(name.find('s'))\n",
    "print(name.find('S'))\n",
    "print(name.find(\"stark\"))\n",
    "print(name.find('Stark'))\n",
    "print(name.find('p'))# s.find() returns the index of the character in a given string \n",
    "#if the character doesn't happen in the function , then it returns NULL = -1 \n",
    "print(name.find('Stark')) #this will also print 5.starting position of stark\n",
    "\n",
    "\n",
    "\n",
    "# find(x in name)\n",
    "print(\"stark\" in name) #it will return True\n",
    "print(\"Tony\" in name) #it will return True \n",
    "print(\"Mony stark\" in name) #it will return False \n",
    "print('k' in name) #True\n",
    "print(\"p\" in \"pop\") #True\n",
    "print(\"t\" in 't') #True\n",
    "\n",
    "#replace()\n",
    "print(name.replace(\"Tony Stark\" , \"Iron Man\")) #this will change Tony stark with Iron man\n",
    "#if the replacing String doesn't match with name string , then it will not replace , instead it will \n",
    "#return the original replacing string\n",
    "\n",
    "#and you can also change a single character  in a string with replace function \n",
    "print(name.replace('T' , 'M')) #u can also send data as string like print.(name.replace(\"T\" , \"M\"))\n",
    "\n",
    "\n"
   ]
  },
  {
   "cell_type": "markdown",
   "metadata": {},
   "source": [
    "### **Arithmetic Operators**\n",
    "\n"
   ]
  },
  {
   "cell_type": "code",
   "execution_count": null,
   "metadata": {},
   "outputs": [],
   "source": [
    "print(5+2) #7                               #addition\n",
    "print(5*2) #10                              #multiplication\n",
    "print(5/2) #2.5 (not 2)                     #division \n",
    "print(5//2) #2(this will print integer)     #int division\n",
    "print(5 % 2) #1                             #modulo \n",
    "print( 5**2) #25                          #power operator\n",
    "\n",
    "i = 5\n",
    "i = i + 2\n",
    "i += 2\n",
    "i -= 2\n",
    "i *= 2"
   ]
  },
  {
   "cell_type": "markdown",
   "metadata": {},
   "source": [
    "### **Comparison Operators**"
   ]
  },
  {
   "cell_type": "code",
   "execution_count": null,
   "metadata": {},
   "outputs": [],
   "source": [
    "#these operators take expression and returns true or false \n",
    "print(3>2) #True\n",
    "\n",
    "print(3 == 2) #True\n",
    "print(3 != 3) #False\n",
    "print(3 != 2) #True\n",
    "\n",
    "\n",
    "print( 2 > 3 or 2 > 1  )  #True          # or operator\n",
    "print( 3 > 2 and 2 < 1 )  #False         #and operator\n",
    "print( not 2 > 3)  #True                  #not operator"
   ]
  },
  {
   "cell_type": "markdown",
   "metadata": {},
   "source": [
    "### **Range() and Loop in Python**\n",
    "\n",
    "- range() function structure\n",
    "\n",
    "range(stop)\n",
    "range(start, stop)\n",
    "range(start, stop, step)\n",
    "Parameters:\n",
    "- start (optional): An integer number specifying at which position to start. Default is 0.\n",
    "- stop (required): An integer number specifying at which position to stop (not included in the range).\n",
    "- step (optional): An integer number specifying the incrementation. Default is 1."
   ]
  },
  {
   "cell_type": "code",
   "execution_count": null,
   "metadata": {},
   "outputs": [],
   "source": [
    "#range(stop)\n",
    "\n",
    "for i in range(5):\n",
    "    print(i)"
   ]
  },
  {
   "cell_type": "code",
   "execution_count": null,
   "metadata": {},
   "outputs": [],
   "source": [
    "#range(start, stop)\n",
    "for i in range(2 ,6):\n",
    "    print(i)"
   ]
  },
  {
   "cell_type": "code",
   "execution_count": null,
   "metadata": {},
   "outputs": [],
   "source": [
    "#range(start, stop , stepsize)\n",
    "for i in range(2 , 10 , 3):\n",
    "    print(i)"
   ]
  },
  {
   "cell_type": "markdown",
   "metadata": {},
   "source": [
    "### **While loop in python**"
   ]
  },
  {
   "cell_type": "code",
   "execution_count": null,
   "metadata": {},
   "outputs": [],
   "source": [
    "i = 1\n",
    "while i <= 5:\n",
    "    print(i* \"*\")\n",
    "    i+=1"
   ]
  },
  {
   "cell_type": "markdown",
   "metadata": {},
   "source": [
    "# Built in Data types in Python -\n",
    "- ### **List** []\n",
    "- ### **Tuple** ()\n",
    "- ### **Set** {}\n",
    "- ### **Dictionary** {key :value}\n",
    "# **List in Python**\n",
    "\n",
    "**list is a complex data types , it can store data like array and can be accessed like array..**\n",
    "\n",
    "\n",
    "### **Basic Properties of Lists**\n",
    "- **Ordered**: Lists maintain the order of elements. The first element you add stays at the first position until explicitly changed.\n",
    "- **Mutable**: Lists can be modified after creation (i.e., elements can be added, removed, or changed).\n",
    "- **Dynamic**: Lists can grow and shrink in size dynamically.\n",
    "- **Indexed**: Elements in a list can be accessed via their index, starting from 0 for the first element.\n",
    "\n",
    "## Useful List Methods\n",
    "\n",
    "- **`append(x)`**: Adds an item `x` to the end of the list.\n",
    "- **`extend(iterable)`**: Extends the list by appending elements from an iterable.\n",
    "- **`insert(i, x)`**: Inserts an item `x` at a given position `i`.\n",
    "- **`remove(x)`**: Removes the first occurrence of an item `x`.\n",
    "- **`pop([i])`**: Removes and returns the item at the given position `i`. If no index is specified, removes and returns the last item.\n",
    "- **`clear()`**: Removes all items from the list.\n",
    "- **`index(x)`**: Returns the index of the first occurrence of an item `x`.\n",
    "- **`count(x)`**: Returns the number of occurrences of an item `x`.\n",
    "- **`sort(key=None, reverse=False)`**: Sorts the list in place.\n",
    "- **`reverse()`**: Reverses the elements of the list in place.\n",
    "- **`copy()`**: Returns a shallow copy of the list.\n",
    "\n",
    "\n",
    "**list declaration**\n"
   ]
  },
  {
   "cell_type": "code",
   "execution_count": null,
   "metadata": {},
   "outputs": [],
   "source": [
    "\n",
    "marks = [95, 98, 97]\n",
    "# Creating an empty list\n",
    "empty_list = []\n",
    "# Creating a list with elements\n",
    "numbers = [1, 2, 3, 4, 5]\n",
    "mixed_list = [1, \"Hello\", 3.14, True]\n",
    "\n",
    "# Creating a list from an iterable\n",
    "list_from_range = list(range(5))  # Output: [0, 1, 2, 3, 4]\n",
    "\n",
    "\n",
    "#List Comprehension\n",
    "\n",
    "# Simple list comprehension\n",
    "squares = [x**2 for x in range(10)]  # Output: [0, 1, 4, 9, 16, 25, 36, 49, 64, 81]\n",
    "print(squares)\n",
    "\n",
    "# Conditional list comprehension\n",
    "even_squares = [x**2 for x in range(10) if x % 2 == 0]  # Output: [0, 4, 16, 36, 64]\n",
    "print(even_squares)\n",
    "\n",
    "\n"
   ]
  },
  {
   "cell_type": "markdown",
   "metadata": {},
   "source": [
    "**List Accessing**\n"
   ]
  },
  {
   "cell_type": "code",
   "execution_count": null,
   "metadata": {},
   "outputs": [],
   "source": [
    "marks = [95 ,98 , 97]   #marks is a list\n",
    "print(marks[0])\n",
    "\n",
    "#But one intersting fact in Python is  -- in c++ or other similar programming language you can not have negative\n",
    "#index number like -1 , -2 ,-3 \n",
    "#but in python you can also have negative index .lets say you have 5 data in a list . so -1 index means the last data in the list , \n",
    "# -2 means before the last data and it goes on like this\n",
    "#Example:\n",
    "\n",
    "print(marks[-1]) #97\n",
    "print(marks[-2]) #98\n",
    "print(marks[-3]) #95\n",
    "#print(marks[-4]) #this will give u an error because you don't have a data with index -4\n"
   ]
  },
  {
   "cell_type": "markdown",
   "metadata": {},
   "source": [
    "### **Modifying Lists**"
   ]
  },
  {
   "cell_type": "code",
   "execution_count": null,
   "metadata": {},
   "outputs": [],
   "source": [
    "#changing elements\n",
    "numbers =[1, 2, 3, 4, 5]\n",
    "numbers[2] = 10 \n",
    "print(numbers)\n",
    "\n",
    "#Adding Elements\n",
    "numbers.append(6) #  Add 6 to the end\n",
    "numbers.insert(0 , 100) #Inserts 100 at 0 index \n",
    "print(numbers)\n",
    "\n",
    "#Removing elements \n",
    "numbers.remove(10) # remove the first occurence of 10 \n",
    "numbers.pop() #remove from last and returns the removed element\n",
    "item = numbers.pop(2) #remove element from the index 2 and return the element\n",
    "print(item)\n",
    "last = numbers.pop()\n",
    "print(last)\n",
    "print(numbers)"
   ]
  },
  {
   "cell_type": "markdown",
   "metadata": {},
   "source": [
    "### **List Operations**:"
   ]
  },
  {
   "cell_type": "code",
   "execution_count": null,
   "metadata": {},
   "outputs": [],
   "source": [
    "# Concatenation\n",
    "list1 = [1, 2]\n",
    "list2 = [3, 4]\n",
    "combined = list1 + list2  # Output: [1, 2, 3, 4]\n",
    "\n",
    "# Repetition\n",
    "repeated = list1 * 3  # Output: [1, 2, 1, 2, 1, 2]\n",
    "\n",
    "# Membership test\n",
    "print(2 in list1)  # Output: True\n",
    "print(5 not in list1)  # Output: True\n"
   ]
  },
  {
   "cell_type": "code",
   "execution_count": null,
   "metadata": {},
   "outputs": [
    {
     "name": "stdout",
     "output_type": "stream",
     "text": [
      "[1, 2, 3, 4, 5]\n",
      "1\n",
      "4 is not in list\n",
      "2\n",
      "0\n",
      "[95, 98, 97]\n",
      "95\n",
      "98\n",
      "97\n"
     ]
    }
   ],
   "source": [
    "#extend(Iterable)\n",
    "lst = [1, 2, 3]\n",
    "lst.extend([4, 5])\n",
    "print(lst)\n",
    "\n",
    "#index(x)\n",
    "lst = [1, 2, 3, 2]\n",
    "print(lst.index(2))  # Output: 1\n",
    "# Raises ValueError if the item is not found\n",
    "try:\n",
    "    lst.index(4)\n",
    "except ValueError as e:\n",
    "    print(e)  # Output: 4 is not in list\n",
    "\n",
    "#count(x) , counts the number of occurence of item x in the list\n",
    "lst = [1, 2, 3, 2]\n",
    "print(lst.count(2))  # Output: 2\n",
    "print(lst.count(4))  # Output: 0\n",
    "\n",
    "#List copying :\n",
    "#lets just say you have to copy a list from index a to b from another list .....\n",
    "#so have to write it like this :  list_copy = lst[a:b+1]\n",
    "#it will copy from a to b into the new list \n",
    "\n",
    "marks = [95 ,98 , 97]  \n",
    "marks_cpy = marks[0:2+1]\n",
    "print(marks_cpy)\n",
    "\n"
   ]
  },
  {
   "cell_type": "markdown",
   "metadata": {},
   "source": [
    "### **sort(reverse = True/False , key = len)**\n"
   ]
  },
  {
   "cell_type": "code",
   "execution_count": null,
   "metadata": {},
   "outputs": [],
   "source": [
    "lst = [3, 1, 2]\n",
    "lst.sort()\n",
    "print(lst)  # Output: [1, 2, 3]\n",
    "\n",
    "lst.sort(reverse=True)\n",
    "print(lst)  # Output: [3, 2, 1]"
   ]
  },
  {
   "cell_type": "markdown",
   "metadata": {},
   "source": [
    "### **Sorting with a key**\n",
    "\n",
    " - keys can be len , abs(absolute value) , str.lower(lowercase representation of strings),\n",
    " custom functions , tuple, dictionary values , operator module"
   ]
  },
  {
   "cell_type": "code",
   "execution_count": null,
   "metadata": {},
   "outputs": [],
   "source": [
    "#string length\n",
    "lst = [\"banana\", \"apple\", \"cherry\"]\n",
    "lst.sort(key=len)\n",
    "print(lst)  # Output: ['apple', 'banana', 'cherry']\n",
    "\n",
    "\n",
    "#absolute value\n",
    "lst = [-3, 1, -2, 4, 0]\n",
    "lst.sort(key=abs)\n",
    "print(lst)  # Output: [0, 1, -2, -3, 4]\n",
    "\n",
    "\n",
    "#Sorting by the Lowercase Representation of Strings:\n",
    "lst = [\"Banana\", \"apple\", \"Cherry\", \"date\"]\n",
    "lst.sort(key=str.lower)\n",
    "print(lst)  # Output: ['apple', 'Banana', 'Cherry', 'date']\n",
    "\n",
    "\n",
    "#custom functions:\n",
    "def custom_sort(x):\n",
    "    return x % 3  # Sort by the remainder when divided by 3\n",
    "\n",
    "lst = [3, 1, 2, 6, 5, 4]\n",
    "lst.sort(key=custom_sort)\n",
    "print(lst)  # Output: [3, 6, 1, 4, 2, 5]\n",
    "\n",
    "#Sorting by a Tuple (Multiple Criteria):\n",
    "lst = [(1, 3), (1, 2), (2, 2), (2, 1)]\n",
    "lst.sort(key=lambda x: (x[0], x[1]))\n",
    "print(lst)  # Output: [(1, 2), (1, 3), (2, 1), (2, 2)]\n",
    "\n",
    "\n",
    "#Sorting by Dictionary Values:\n",
    "lst = [{'name': 'banana', 'count': 2}, {'name': 'apple', 'count': 5}, {'name': 'cherry', 'count': 1}]\n",
    "lst.sort(key=lambda x: x['count'])\n",
    "print(lst)  # Output: [{'name': 'cherry', 'count': 1}, {'name': 'banana', 'count': 2}, {'name': 'apple', 'count': 5}]\n",
    "\n",
    "\n"
   ]
  },
  {
   "cell_type": "markdown",
   "metadata": {},
   "source": [
    "### **Sort using \"operator Module**\n",
    "\n"
   ]
  },
  {
   "cell_type": "code",
   "execution_count": null,
   "metadata": {},
   "outputs": [],
   "source": [
    "#Sorting by attribute:\n",
    "\n",
    "from operator import attrgetter\n",
    "\n",
    "class Fruit:\n",
    "    def __init__(self , name , count):\n",
    "        self.name = name \n",
    "        self.count = count\n",
    "\n",
    "\n",
    "fruits = [Fruit(\"Banana\" , 2) , Fruit(\"Mango\" , 1) , Fruit(\"cherry\" , 3)]\n",
    "fruits.sort(key=attrgetter('count'))\n",
    "print([(fruit.name , fruit.count) for fruit in fruits])   "
   ]
  },
  {
   "cell_type": "code",
   "execution_count": null,
   "metadata": {},
   "outputs": [],
   "source": [
    "#Sorting by Itemgetter (for dictionaries or lists of tuples):\n",
    "\n",
    "from operator import itemgetter\n",
    "\n",
    "lst = [{'name': 'banana', 'count': 2}, {'name': 'apple', 'count': 5}, {'name': 'cherry', 'count': 1}]\n",
    "lst.sort(key=itemgetter('count'))\n",
    "print(lst)  # Output: [{'name': 'cherry', 'count': 1}, {'name': 'banana', 'count': 2}, {'name': 'apple', 'count': 5}]\n"
   ]
  },
  {
   "cell_type": "code",
   "execution_count": null,
   "metadata": {},
   "outputs": [],
   "source": [
    "#Using functools.cmp_to_key for Custom Comparison Functions:\n",
    "from functools import cmp_to_key\n",
    "\n",
    "def custom_compare(x, y):\n",
    "    return (x % 3) - (y % 3)  # Custom comparison logic\n",
    "\n",
    "lst = [3, 1, 2, 6, 5, 4]\n",
    "lst.sort(key=cmp_to_key(custom_compare))\n",
    "print(lst)  # Output: [3, 6, 1, 4, 2, 5]\n"
   ]
  }
 ],
 "metadata": {
  "kernelspec": {
   "display_name": "Python 3",
   "language": "python",
   "name": "python3"
  },
  "language_info": {
   "codemirror_mode": {
    "name": "ipython",
    "version": 3
   },
   "file_extension": ".py",
   "mimetype": "text/x-python",
   "name": "python",
   "nbconvert_exporter": "python",
   "pygments_lexer": "ipython3",
   "version": "3.12.3"
  }
 },
 "nbformat": 4,
 "nbformat_minor": 2
}
