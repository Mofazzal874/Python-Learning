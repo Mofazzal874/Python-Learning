{
 "cells": [
  {
   "cell_type": "markdown",
   "metadata": {},
   "source": [
    "### Python Dictionaries\n",
    "\n",
    "Python dictionaries are unordered collections of key-value pairs, providing a fast way to retrieve values based on their keys. They are mutable and can store mixed data types. Dictionaries are widely used for various purposes, such as configuration settings, counting occurrences, and representing complex data structures.\n",
    "\n",
    "### Basic Properties of Dictionaries\n",
    "\n",
    "1. **Unordered**: Dictionary elements do not maintain any specific order.\n",
    "2. **Mutable**: You can change, add, or remove items after the dictionary is created.\n",
    "3. **Indexed by keys**: Values are accessed using keys, which must be unique and immutable.\n",
    "4. **Dynamic**: Dictionaries can grow and shrink in size dynamically.\n",
    "\n",
    "\n",
    "### Useful Dictionary Methods\n",
    "\n",
    "- **`dict.get(key, default=None)`**: Returns the value for `key` if `key` is in the dictionary, else `default`.\n",
    "- **`dict.keys()`**: Returns a new view of the dictionary's keys.\n",
    "- **`dict.values()`**: Returns a new view of the dictionary's values.\n",
    "- **`dict.items()`**: Returns a new view of the dictionary's items (key-value pairs).\n",
    "- **`dict.update([other])`**: Updates the dictionary with the key-value pairs from `other`.\n",
    "- **`dict.pop(key, default=None)`**: Removes the specified key and returns its value. If the key is not found, returns `default`.\n",
    "- **`dict.clear()`**: Removes all items from the dictionary.\n",
    "- **`dict.copy()`**: Returns a shallow copy of the dictionary.\n",
    "\n",
    "\n",
    "### Creating Dictionaries\n",
    "\n"
   ]
  },
  {
   "cell_type": "code",
   "execution_count": 3,
   "metadata": {},
   "outputs": [],
   "source": [
    "# Creating an empty dictionary\n",
    "empty_dict = {}\n",
    "\n",
    "# Creating a dictionary with key-value pairs\n",
    "person = {\"name\": \"Alice\", \"age\": 25, \"city\": \"New York\"}\n",
    "\n",
    "# Creating a dictionary using the dict() function\n",
    "person = dict(name=\"Alice\", age=25, city=\"New York\")"
   ]
  },
  {
   "cell_type": "markdown",
   "metadata": {},
   "source": [
    "### **Accessing and Modifying elements**"
   ]
  },
  {
   "cell_type": "code",
   "execution_count": 4,
   "metadata": {},
   "outputs": [
    {
     "name": "stdout",
     "output_type": "stream",
     "text": [
      "Alice\n",
      "{'name': 'Alice', 'age': 26, 'city': 'New York', 'email': 'alice@example.com'}\n",
      "{'name': 'Alice', 'age': 26, 'email': 'alice@example.com'}\n"
     ]
    }
   ],
   "source": [
    "person = {\"name\": \"Alice\", \"age\": 25, \"city\": \"New York\"}\n",
    "\n",
    "# Accessing values\n",
    "print(person[\"name\"])  # Output: Alice\n",
    "# Adding or modifying values\n",
    "person[\"age\"] = 26\n",
    "person[\"email\"] = \"alice@example.com\"\n",
    "print(person)  # Output: {'name': 'Alice', 'age': 26, 'city': 'New York', 'email': 'alice@example.com'}\n",
    "\n",
    "# Removing values\n",
    "del person[\"city\"]\n",
    "print(person)  # Output: {'name': 'Alice', 'age': 26, 'email': 'alice@example.com'}\n"
   ]
  },
  {
   "cell_type": "markdown",
   "metadata": {},
   "source": [
    "### **Basic Operations in a Dictionary**"
   ]
  },
  {
   "cell_type": "code",
   "execution_count": 5,
   "metadata": {},
   "outputs": [
    {
     "name": "stdout",
     "output_type": "stream",
     "text": [
      "Alice\n",
      "Not Available\n",
      "dict_keys(['name', 'age', 'city'])\n",
      "dict_values(['Alice', 25, 'New York'])\n",
      "dict_items([('name', 'Alice'), ('age', 25), ('city', 'New York')])\n",
      "{'name': 'Alice', 'age': 26, 'city': 'New York', 'email': 'alice@example.com'}\n",
      "26\n",
      "{'name': 'Alice', 'city': 'New York', 'email': 'alice@example.com'}\n",
      "{}\n",
      "{'name': 'Alice', 'age': 25}\n"
     ]
    }
   ],
   "source": [
    "person = {\"name\": \"Alice\", \"age\": 25, \"city\": \"New York\"}\n",
    "\n",
    "# Using get() method\n",
    "print(person.get(\"name\"))  # Output: Alice\n",
    "print(person.get(\"phone\", \"Not Available\"))  # Output: Not Available\n",
    "\n",
    "# Using keys(), values(), items()\n",
    "print(person.keys())  # Output: dict_keys(['name', 'age', 'city'])\n",
    "print(person.values())  # Output: dict_values(['Alice', 25, 'New York'])\n",
    "print(person.items())  # Output: dict_items([('name', 'Alice'), ('age', 25), ('city', 'New York')])\n",
    "\n",
    "# Using update() method\n",
    "person.update({\"age\": 26, \"email\": \"alice@example.com\"})\n",
    "print(person)  # Output: {'name': 'Alice', 'age': 26, 'city': 'New York', 'email': 'alice@example.com'}\n",
    "\n",
    "# Using pop() method\n",
    "age = person.pop(\"age\")\n",
    "print(age)  # Output: 26\n",
    "print(person)  # Output: {'name': 'Alice', 'city': 'New York', 'email': 'alice@example.com'}\n",
    "\n",
    "# Using clear() method\n",
    "person.clear()\n",
    "print(person)  # Output: {}\n",
    "\n",
    "# Using copy() method\n",
    "original = {\"name\": \"Alice\", \"age\": 25}\n",
    "copy_dict = original.copy()\n",
    "print(copy_dict)  # Output: {'name': 'Alice', 'age': 25}\n",
    "\n"
   ]
  },
  {
   "cell_type": "markdown",
   "metadata": {},
   "source": [
    "### **Use Case of Dictionary**"
   ]
  },
  {
   "cell_type": "code",
   "execution_count": 6,
   "metadata": {},
   "outputs": [
    {
     "name": "stdout",
     "output_type": "stream",
     "text": [
      "Counter({'mango': 3, 'banana': 2, 'jack-fruit': 1, 'apple': 1, 'ice-apple': 1})\n"
     ]
    }
   ],
   "source": [
    "#Counting occurences in a list\n",
    "from collections import Counter\n",
    "\n",
    "elements = ['mango' , 'jack-fruit' , 'mango' , 'mango' , 'apple' , 'banana' , 'ice-apple' , 'banana']\n",
    "counts = Counter(elements)\n",
    "print(counts)"
   ]
  },
  {
   "cell_type": "code",
   "execution_count": 7,
   "metadata": {},
   "outputs": [
    {
     "name": "stdout",
     "output_type": "stream",
     "text": [
      "defaultdict(<class 'list'>, {'Alice': ['A', 'A+'], 'Bob': ['B', 'A-']})\n"
     ]
    }
   ],
   "source": [
    "\n",
    "# Grouping Data: Group data by a specific key.\n",
    "from collections import defaultdict\n",
    "students = [(\"Alice\", \"A\"), (\"Bob\", \"B\"), (\"Alice\", \"A+\"), (\"Bob\", \"A-\")]\n",
    "grades = defaultdict(list)\n",
    "for name, grade in students:\n",
    "    grades[name].append(grade)\n",
    "print(grades)  # Output: {'Alice': ['A', 'A+'], 'Bob': ['B', 'A-']}\n",
    "\n",
    "\n"
   ]
  }
 ],
 "metadata": {
  "kernelspec": {
   "display_name": "Python 3",
   "language": "python",
   "name": "python3"
  },
  "language_info": {
   "codemirror_mode": {
    "name": "ipython",
    "version": 3
   },
   "file_extension": ".py",
   "mimetype": "text/x-python",
   "name": "python",
   "nbconvert_exporter": "python",
   "pygments_lexer": "ipython3",
   "version": "3.12.3"
  }
 },
 "nbformat": 4,
 "nbformat_minor": 2
}
