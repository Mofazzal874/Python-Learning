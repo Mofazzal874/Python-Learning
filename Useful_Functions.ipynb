{
 "cells": [
  {
   "cell_type": "markdown",
   "metadata": {},
   "source": [
    "sep=\"\" in print function....or separator to separate the string in print function with arbitrary separator...by default the sep value is a \"space\""
   ]
  },
  {
   "cell_type": "code",
   "execution_count": 3,
   "metadata": {},
   "outputs": [
    {
     "name": "stdout",
     "output_type": "stream",
     "text": [
      "My name is|Mofazzal|and my age is|25\n",
      "My name is,Mofazzal,and my age is,25\n",
      "My name isMofazzaland my age is25\n"
     ]
    }
   ],
   "source": [
    "name = \"Mofazzal\"\n",
    "age = 25 \n",
    "print(\"My name is\",name , \"and my age is\" , age , sep=\"|\"  )\n",
    "print(\"My name is\",name , \"and my age is\" , age , sep=\",\"  )\n",
    "print(\"My name is\",name , \"and my age is\" , age , sep=\"\"  )"
   ]
  },
  {
   "cell_type": "markdown",
   "metadata": {},
   "source": [
    "By default python print has a \"\\n\" of every print statement.But sometimes you doesn't want to print a new line...so\n",
    "\n",
    "You can also override \"end\" argument of the print function  in python so that new line is not printed"
   ]
  },
  {
   "cell_type": "code",
   "execution_count": 2,
   "metadata": {},
   "outputs": [
    {
     "name": "stdout",
     "output_type": "stream",
     "text": [
      "Hello I am Mofazzal\n",
      "Hello I am |Mofazzal\n"
     ]
    }
   ],
   "source": [
    "name = \"Mofazzal\"\n",
    "age = 25 \n",
    "print(\"Hello I am \" , end=\"\")\n",
    "print(name)\n",
    "\n",
    "\n",
    "#you can also add other things in the end argument like in the sep argument before\n",
    "print(\"Hello I am \" , end=\"|\")\n",
    "print(name)"
   ]
  },
  {
   "cell_type": "markdown",
   "metadata": {},
   "source": [
    "**help() function**\n",
    "- to print the documentation of a function to show how a function works so that you don't have to look it up every time..\n",
    "- for that you just have to pass the function , not call the function\n",
    "- it works not only for built-in functions , but also user-defined functions(But you have to write docstring for it..) "
   ]
  },
  {
   "cell_type": "code",
   "execution_count": 7,
   "metadata": {},
   "outputs": [
    {
     "name": "stdout",
     "output_type": "stream",
     "text": [
      "Help on built-in function print in module builtins:\n",
      "\n",
      "print(*args, sep=' ', end='\\n', file=None, flush=False)\n",
      "    Prints the values to a stream, or to sys.stdout by default.\n",
      "\n",
      "    sep\n",
      "      string inserted between values, default a space.\n",
      "    end\n",
      "      string appended after the last value, default a newline.\n",
      "    file\n",
      "      a file-like object (stream); defaults to the current sys.stdout.\n",
      "    flush\n",
      "      whether to forcibly flush the stream.\n",
      "\n",
      "Help on built-in function sqrt in module math:\n",
      "\n",
      "sqrt(x, /)\n",
      "    Return the square root of x.\n",
      "\n",
      "Help on function test_func in module __main__:\n",
      "\n",
      "test_func(a, b)\n",
      "    a:value 1\n",
      "    b: value 2\n",
      "    returns :int\n",
      "\n"
     ]
    }
   ],
   "source": [
    "help(print)\n",
    "\n",
    "from math import sqrt\n",
    "help(sqrt)\n",
    "\n",
    "\n",
    "\n",
    "#defining user-defined function with docstring \n",
    "def test_func(a,b):\n",
    "    \"\"\"\n",
    "    a:value 1\n",
    "    b: value 2\n",
    "    returns :int\n",
    "    \"\"\"\n",
    "    return a+b \n",
    "\n",
    "help(test_func)"
   ]
  },
  {
   "cell_type": "code",
   "execution_count": null,
   "metadata": {},
   "outputs": [],
   "source": []
  }
 ],
 "metadata": {
  "kernelspec": {
   "display_name": "Python 3",
   "language": "python",
   "name": "python3"
  },
  "language_info": {
   "codemirror_mode": {
    "name": "ipython",
    "version": 3
   },
   "file_extension": ".py",
   "mimetype": "text/x-python",
   "name": "python",
   "nbconvert_exporter": "python",
   "pygments_lexer": "ipython3",
   "version": "3.12.3"
  }
 },
 "nbformat": 4,
 "nbformat_minor": 2
}
