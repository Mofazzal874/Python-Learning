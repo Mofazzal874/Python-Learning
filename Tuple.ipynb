{
 "cells": [
  {
   "cell_type": "markdown",
   "metadata": {},
   "source": [
    "# **Tuple**\n",
    "- Tuple is just like list but  immutable means if you make a tuple u can't change it.Like **you can't**-\n",
    "     - addition ,\n",
    "     - assignment ,\n",
    "     - delete ,\n",
    "     - modify ,\n",
    "     - replace\n",
    "- Tuples are often used for grouping related data and can contain elements of different data types.\n",
    "- Tuples are immutable sequences, typically used to store collections of heterogeneous data. \n",
    "- Tuples are similar to lists but with one key difference: once created, their elements cannot be changed. \n",
    "\n",
    "### **Basic Properties of Tuples**\n",
    "- **Immutable**: Once a tuple is created, its elements cannot be changed.\n",
    "- **Ordered**: Tuples maintain the order of elements.\n",
    "- **Indexed**: Elements in a tuple can be accessed via their index, starting from 0 for the first element.\n",
    "Can contain mixed data types: A tuple can store elements of different data types.\n",
    "\n",
    "\n",
    "### **Useful Methods of Tuples**\n",
    "-->Tuples have only two built-in methods\n",
    "- **`index(x)`**: Returns the index of the first occurrence of an item `x`.\n",
    "- **`count(x)`**: Returns the number of occurrences of an item `x`.\n",
    "\n",
    "\n",
    "### **`Tuple creation`**\n"
   ]
  },
  {
   "cell_type": "code",
   "execution_count": 1,
   "metadata": {},
   "outputs": [],
   "source": [
    "\n",
    "\n",
    "# Creating an empty tuple\n",
    "empty_tuple = ()\n",
    "\n",
    "# Creating a tuple with elements\n",
    "simple_tuple = (1, 2, 3)\n",
    "\n",
    "# Creating a tuple without parentheses (not recommended)\n",
    "simple_tuple = 1, 2, 3\n",
    "\n",
    "# Creating a tuple with a single element (note the trailing comma)\n",
    "single_element_tuple = (1,)\n"
   ]
  },
  {
   "cell_type": "markdown",
   "metadata": {},
   "source": [
    "### **`Tuple Operations`**"
   ]
  },
  {
   "cell_type": "code",
   "execution_count": 2,
   "metadata": {},
   "outputs": [
    {
     "name": "stdout",
     "output_type": "stream",
     "text": [
      "10\n",
      "30\n",
      "40\n",
      "30\n"
     ]
    }
   ],
   "source": [
    "#Accessing Tuple Elements\n",
    "tuple_example = (10, 20, 30, 40)\n",
    "\n",
    "# Accessing elements by index\n",
    "print(tuple_example[0])  # Output: 10\n",
    "print(tuple_example[2])  # Output: 30\n",
    "\n",
    "# Accessing elements by negative index\n",
    "print(tuple_example[-1])  # Output: 40\n",
    "print(tuple_example[-2])  # Output: 30"
   ]
  },
  {
   "cell_type": "markdown",
   "metadata": {},
   "source": [
    "### **`Tuple Operations`**"
   ]
  },
  {
   "cell_type": "code",
   "execution_count": 3,
   "metadata": {},
   "outputs": [
    {
     "name": "stdout",
     "output_type": "stream",
     "text": [
      "True\n",
      "True\n",
      "1\n",
      "2\n",
      "3\n",
      "1 2 3\n",
      "2 1\n"
     ]
    }
   ],
   "source": [
    "# Concatenation\n",
    "tuple1 = (1, 2, 3)\n",
    "tuple2 = (4, 5, 6)\n",
    "concatenated_tuple = tuple1 + tuple2  # Output: (1, 2, 3, 4, 5, 6)\n",
    "\n",
    "# Repetition\n",
    "repeated_tuple = tuple1 * 3  # Output: (1, 2, 3, 1, 2, 3, 1, 2, 3)\n",
    "\n",
    "# Membership test\n",
    "print(2 in tuple1)  # Output: True\n",
    "print(5 not in tuple1)  # Output: True\n",
    "\n",
    "# Tuple unpacking\n",
    "a, b, c = tuple1\n",
    "print(a) #1\n",
    "print(b) #2\n",
    "print(c) #3\n",
    "print(a, b, c)  # Output: 1 2 3\n",
    "\n",
    "# Swapping variables\n",
    "x, y = 1, 2\n",
    "x, y = y, x\n",
    "print(x, y)  # Output: 2 1\n",
    "\n"
   ]
  },
  {
   "cell_type": "markdown",
   "metadata": {},
   "source": [
    "### **`Basic Methods of Tuple`**"
   ]
  },
  {
   "cell_type": "code",
   "execution_count": 4,
   "metadata": {},
   "outputs": [
    {
     "name": "stdout",
     "output_type": "stream",
     "text": [
      "3\n",
      "1\n"
     ]
    }
   ],
   "source": [
    "tup = (1, 2, 3, 2, 2)\n",
    "\n",
    "# count(x)\n",
    "count_of_twos = tup.count(2)\n",
    "print(count_of_twos)  # Output: 3\n",
    "\n",
    "# index(x)\n",
    "index_of_two = tup.index(2)\n",
    "print(index_of_two)  # Output: 1\n"
   ]
  },
  {
   "cell_type": "markdown",
   "metadata": {},
   "source": [
    "### **`Exception in Tuple`**\n",
    "\n",
    "- **TypeError**: Raised when trying to modify an element of a tuple."
   ]
  },
  {
   "cell_type": "code",
   "execution_count": 5,
   "metadata": {},
   "outputs": [
    {
     "ename": "TypeError",
     "evalue": "'tuple' object does not support item assignment",
     "output_type": "error",
     "traceback": [
      "\u001b[1;31m---------------------------------------------------------------------------\u001b[0m",
      "\u001b[1;31mTypeError\u001b[0m                                 Traceback (most recent call last)",
      "Cell \u001b[1;32mIn[5], line 2\u001b[0m\n\u001b[0;32m      1\u001b[0m tuple_example \u001b[38;5;241m=\u001b[39m (\u001b[38;5;241m1\u001b[39m, \u001b[38;5;241m2\u001b[39m, \u001b[38;5;241m3\u001b[39m)\n\u001b[1;32m----> 2\u001b[0m \u001b[43mtuple_example\u001b[49m\u001b[43m[\u001b[49m\u001b[38;5;241;43m1\u001b[39;49m\u001b[43m]\u001b[49m \u001b[38;5;241m=\u001b[39m \u001b[38;5;241m5\u001b[39m  \u001b[38;5;66;03m# Raises TypeError: 'tuple' object does not support item assignment\u001b[39;00m\n",
      "\u001b[1;31mTypeError\u001b[0m: 'tuple' object does not support item assignment"
     ]
    }
   ],
   "source": [
    "tuple_example = (1, 2, 3)\n",
    "tuple_example[1] = 5  # Raises TypeError: 'tuple' object does not support item assignment\n"
   ]
  },
  {
   "cell_type": "markdown",
   "metadata": {},
   "source": [
    "- **ValueError**: Raised when a specified element is not found."
   ]
  },
  {
   "cell_type": "code",
   "execution_count": null,
   "metadata": {},
   "outputs": [],
   "source": [
    "tuple_example = (1, 2, 3)\n",
    "print(tuple_example.index(4))  # Raises ValueError: tuple.index(x): x not in tuple\n"
   ]
  },
  {
   "cell_type": "markdown",
   "metadata": {},
   "source": [
    "### **`Tuple Tricks and Tips`**\n",
    "\n",
    "**Tuple Packing and Unpacking**\n",
    "- Packing means grouping.Tuple packing is the process of combining multiple values into a single tuple."
   ]
  },
  {
   "cell_type": "code",
   "execution_count": null,
   "metadata": {},
   "outputs": [],
   "source": [
    "print(\"packing\")\n",
    "#packing\n",
    "# Packing without parentheses\n",
    "my_tuple = 1, 2, 3\n",
    "print(my_tuple)  # Output: (1, 2, 3)\n",
    "# Packing with parentheses (optional)\n",
    "my_tuple = (1, 2, 3)\n",
    "print(my_tuple)  # Output: (1, 2, 3)\n",
    "\n",
    "print(\"Unpacking\")\n",
    "#unpacking \n",
    "# Packing a tuple\n",
    "my_tuple = (1, 2, 3)\n",
    "# Unpacking the tuple\n",
    "a, b, c = my_tuple\n",
    "print(a)  # Output: 1\n",
    "print(b)  # Output: 2\n",
    "print(c)  # Output: 3\n",
    "\n",
    "print(\"Extended Unpacking\")\n",
    "# Extended Unpacking\n",
    "# extended unpacking allows to unpack parts of a tuple into variables while collecting the remaining elements into a list.\n",
    "\n",
    "my_tuple = (1, 2, 3, 4, 5)\n",
    "a , *b , c = my_tuple\n",
    "print(a) #1\n",
    "print(b) #[2,3,4] as a list\n",
    "print(c) #5\n",
    "\n",
    "print(\"omitting an element in tuple\")\n",
    "#use underscore to omit \n",
    "# Packing a tuple\n",
    "my_tuple = (1, 2, 3)\n",
    "# Unpacking and ignoring the second value\n",
    "a, _, c = my_tuple\n",
    "print(a)  # Output: 1\n",
    "print(c)  # Output: 3\n",
    "\n",
    "print(\"nested unpacking\")\n",
    "# nested unpacking \n",
    "nested_tuple = (1 , 2, (3, 4))\n",
    "a , b , (c,d) = nested_tuple\n",
    "print(a,b,c,d) #1 2  3 4\n",
    "\n",
    "\n",
    "print(\"Use case\")\n",
    "#Return multiple values from a function\n",
    "def get_coordinates():\n",
    "    return (1, 2)\n",
    "\n",
    "x, y = get_coordinates()\n",
    "print(x, y)  # Output: 1, 2\n",
    "\n",
    "\n",
    "\n",
    "\n"
   ]
  },
  {
   "cell_type": "markdown",
   "metadata": {},
   "source": [
    "### **`Other Tricks and Tips`**:"
   ]
  },
  {
   "cell_type": "code",
   "execution_count": null,
   "metadata": {},
   "outputs": [
    {
     "name": "stdout",
     "output_type": "stream",
     "text": [
      "Returning Multiple values from a function\n",
      "1 5\n",
      "Using Tuples as dictionary keys\n",
      "New York\n",
      "Nested Tuples\n",
      "1\n",
      "(2, (3, 4, 5))\n",
      "4\n"
     ]
    }
   ],
   "source": [
    "print(\"Creating Tuples from list\")\n",
    "lst = [1, 2, 3]\n",
    "tup = tuple(lst)\n",
    "print(tup)  # Output: (1, 2, 3)\n",
    "\n",
    "\n",
    "\n",
    "print(\"Returning Multiple values from a function\") \n",
    "def min_max(data):\n",
    "    return min(data) , max(data)\n",
    "\n",
    "tuple = (1,2,3,4,5)\n",
    "min_val , max_val = min_max(tuple)\n",
    "print(min_val , max_val)\n",
    "\n",
    "\n",
    "\n",
    "print(\"Using Tuples as dictionary keys\")\n",
    "\n",
    "locations = {\n",
    "    (35.6895, 139.6917): \"Tokyo\",\n",
    "    (51.5074, -0.1278): \"London\",\n",
    "    (40.7128, -74.0060): \"New York\"\n",
    "}\n",
    "print(locations[(40.7128, -74.0060)])  # Output: New York\n",
    "\n",
    "\n",
    "\n",
    "print(\"Nested Tuples\")\n",
    "tuples=(1,(2,(3,4,5)) , 6)\n",
    "print(tuples[0]) #1\n",
    "print(tuples[1]) #(2, (3, 4, 5))\n",
    "print(tuples[1][1][1]) #4\n",
    "\n"
   ]
  }
 ],
 "metadata": {
  "kernelspec": {
   "display_name": "Python 3",
   "language": "python",
   "name": "python3"
  },
  "language_info": {
   "codemirror_mode": {
    "name": "ipython",
    "version": 3
   },
   "file_extension": ".py",
   "mimetype": "text/x-python",
   "name": "python",
   "nbconvert_exporter": "python",
   "pygments_lexer": "ipython3",
   "version": "3.12.3"
  }
 },
 "nbformat": 4,
 "nbformat_minor": 2
}
