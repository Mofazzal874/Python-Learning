{
 "cells": [
  {
   "cell_type": "markdown",
   "metadata": {},
   "source": [
    "### **Basic Codes to start with** ###"
   ]
  },
  {
   "cell_type": "code",
   "execution_count": null,
   "metadata": {},
   "outputs": [],
   "source": [
    "print('hello World')"
   ]
  },
  {
   "cell_type": "code",
   "execution_count": null,
   "metadata": {},
   "outputs": [],
   "source": [
    "name = input(\"please enter your name:\")\n",
    "print(\"Hello \" + name)\n",
    "age = 22 \n",
    "print(\"you are \" + name + \" and your age is \" + str(age))"
   ]
  },
  {
   "cell_type": "code",
   "execution_count": null,
   "metadata": {},
   "outputs": [],
   "source": [
    "old_age = input(\"Enter your Age: \")\n",
    "print(int(old_age) + 2)"
   ]
  },
  {
   "cell_type": "markdown",
   "metadata": {},
   "source": [
    "**Usefull Conversion functions:**\n",
    "\n",
    "   - float()\n",
    "   - bool()\n",
    "   - str()\n",
    "   - int()\n"
   ]
  },
  {
   "cell_type": "markdown",
   "metadata": {},
   "source": [
    "### **String Operation**"
   ]
  },
  {
   "cell_type": "code",
   "execution_count": null,
   "metadata": {},
   "outputs": [],
   "source": [
    "name = \"Tony Stark\"\n",
    "print(name.upper())\n",
    "print(name.lowwer())\n"
   ]
  },
  {
   "cell_type": "markdown",
   "metadata": {},
   "source": [
    "### Note:\n",
    "**Upper() and Lower() function doesn't change the original string , it returns a copy of the changed string.**\n",
    "\n",
    "\n",
    "\n",
    "\n",
    "\n",
    "## Find() operation in python:\n",
    "- find()\n",
    "it returns the index where it found the substring, otherwise -1\n",
    "- find(\"substring\" in string) \n",
    "returns True or False if found or not\n",
    "- replace(\"string that needes to be replaces\" , \"to replace with\")"
   ]
  },
  {
   "cell_type": "code",
   "execution_count": null,
   "metadata": {},
   "outputs": [],
   "source": [
    "name = \"Tony Stark\"\n",
    "print(name.find('s'))\n",
    "print(name.find('S'))\n",
    "print(name.find(\"stark\"))\n",
    "print(name.find('Stark'))\n",
    "print(name.find('p'))# s.find() returns the index of the character in a given string \n",
    "#if the character doesn't happen in the function , then it returns NULL = -1 \n",
    "print(name.find('Stark')) #this will also print 5.starting position of stark\n",
    "\n",
    "\n",
    "\n",
    "# find(x in name)\n",
    "print(\"stark\" in name) #it will return True\n",
    "print(\"Tony\" in name) #it will return True \n",
    "print(\"Mony stark\" in name) #it will return False \n",
    "print('k' in name) #True\n",
    "print(\"p\" in \"pop\") #True\n",
    "print(\"t\" in 't') #True\n",
    "\n",
    "#replace()\n",
    "print(name.replace(\"Tony Stark\" , \"Iron Man\")) #this will change Tony stark with Iron man\n",
    "#if the replacing String doesn't match with name string , then it will not replace , instead it will \n",
    "#return the original replacing string\n",
    "\n",
    "#and you can also change a single character  in a string with replace function \n",
    "print(name.replace('T' , 'M')) #u can also send data as string like print.(name.replace(\"T\" , \"M\"))\n",
    "\n",
    "\n"
   ]
  },
  {
   "cell_type": "markdown",
   "metadata": {},
   "source": [
    "### **Arithmetic Operators**\n",
    "\n"
   ]
  },
  {
   "cell_type": "code",
   "execution_count": 20,
   "metadata": {},
   "outputs": [
    {
     "name": "stdout",
     "output_type": "stream",
     "text": [
      "7\n",
      "3\n",
      "10\n",
      "2.5\n",
      "2\n",
      "1\n",
      "25\n"
     ]
    }
   ],
   "source": [
    "print(5+2) #7                               #addition\n",
    "print(5*2) #10                              #multiplication\n",
    "print(5/2) #2.5 (not 2)                     #division \n",
    "print(5//2) #2(this will print integer)     #int division\n",
    "print(5 % 2) #1                             #modulo \n",
    "print( 5**2) #25                          #power operator\n",
    "\n",
    "i = 5\n",
    "i = i + 2\n",
    "i += 2\n",
    "i -= 2\n",
    "i *= 2"
   ]
  },
  {
   "cell_type": "markdown",
   "metadata": {},
   "source": [
    "### **Comparison Operators**"
   ]
  },
  {
   "cell_type": "code",
   "execution_count": null,
   "metadata": {},
   "outputs": [],
   "source": [
    "#these operators take expression and returns true or false \n",
    "print(3>2) #True\n",
    "\n",
    "print(3 == 2) #True\n",
    "print(3 != 3) #False\n",
    "print(3 != 2) #True\n",
    "\n",
    "\n",
    "print( 2 > 3 or 2 > 1  )  #True          # or operator\n",
    "print( 3 > 2 and 2 < 1 )  #False         #and operator\n",
    "print( not 2 > 3)  #True                  #not operator"
   ]
  },
  {
   "cell_type": "markdown",
   "metadata": {},
   "source": [
    "### **Range() and Loop in Python**\n",
    "\n"
   ]
  }
 ],
 "metadata": {
  "kernelspec": {
   "display_name": "Python 3",
   "language": "python",
   "name": "python3"
  },
  "language_info": {
   "codemirror_mode": {
    "name": "ipython",
    "version": 3
   },
   "file_extension": ".py",
   "mimetype": "text/x-python",
   "name": "python",
   "nbconvert_exporter": "python",
   "pygments_lexer": "ipython3",
   "version": "3.12.3"
  }
 },
 "nbformat": 4,
 "nbformat_minor": 2
}
