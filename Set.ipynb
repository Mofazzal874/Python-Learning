{
 "cells": [
  {
   "cell_type": "markdown",
   "metadata": {},
   "source": [
    "### **Python Sets**\n",
    "\n",
    "Sets are unordered collections of unique elements. They are mutable, but since they are unordered, they do not support indexing, slicing, or other sequence-like behavior. Sets are useful for storing items where each item must be unique and for performing common set operations like union, intersection, and difference.\n",
    "\n",
    "### Basic Properties of Sets\n",
    "\n",
    "1. **Unordered**: Sets do not maintain any order among elements.\n",
    "2. **Unique Elements**: Sets automatically remove duplicate entries.\n",
    "3. **Mutable**: Elements can be added or removed from a set.\n",
    "- Set items are unchangeable, but you can remove items and add new items.\n",
    "\n",
    "### **Creating Sets**\n"
   ]
  },
  {
   "cell_type": "code",
   "execution_count": 1,
   "metadata": {},
   "outputs": [
    {
     "name": "stdout",
     "output_type": "stream",
     "text": [
      "{1, 2, 3, 4, 5}\n"
     ]
    }
   ],
   "source": [
    "\n",
    "# Creating an empty set\n",
    "empty_set = set()\n",
    "\n",
    "# Creating a set with elements\n",
    "fruits = {\"apple\", \"banana\", \"cherry\"}\n",
    "\n",
    "# Creating a set from a list\n",
    "numbers = set([1, 2, 3, 4, 4, 5])\n",
    "print(numbers)  # Output: {1, 2, 3, 4, 5}"
   ]
  },
  {
   "cell_type": "markdown",
   "metadata": {},
   "source": [
    "### **Accessing Set Elements**\n",
    "- Since sets are unordered, you **cannot access elements by index**. Instead, you can iterate over the set."
   ]
  },
  {
   "cell_type": "code",
   "execution_count": 2,
   "metadata": {},
   "outputs": [
    {
     "name": "stdout",
     "output_type": "stream",
     "text": [
      "cherry\n",
      "banana\n",
      "apple\n"
     ]
    }
   ],
   "source": [
    "fruits = {\"apple\", \"banana\", \"cherry\"}\n",
    "for fruit in fruits:\n",
    "    print(fruit)\n"
   ]
  },
  {
   "cell_type": "markdown",
   "metadata": {},
   "source": [
    "### **Useful Set Methods**\n",
    "- **add(x)**: Adds an item x to the set.\n",
    "- **remove(x)**: Removes an item x from the set. Raises KeyError if x is not found.\n",
    "- **discard(x)**: Removes an item x from the set if it is present. Does not raise an error if x is not found.\n",
    "- **pop()**: Removes and returns an arbitrary item from the set. Raises KeyError if the set is empty.\n",
    "- **clear()**: Removes all items from the set.\n",
    "- **copy()**: Returns a shallow copy of the set.\n",
    "- **update(iterable)**: Adds elements from an iterable to the set.\n",
    "- **union(*sets)**: Returns the union of the set and all provided sets.\n",
    "- **intersection(*sets)**: Returns the intersection of the set and all provided sets.\n",
    "- **difference(*sets)**: Returns the difference between the set and all provided sets.\n",
    "- **symmetric_difference(set):** Returns the symmetric difference between the set and the provided set."
   ]
  },
  {
   "cell_type": "code",
   "execution_count": 3,
   "metadata": {},
   "outputs": [
    {
     "name": "stdout",
     "output_type": "stream",
     "text": [
      "{'cherry', 'banana', 'orange', 'apple'}\n",
      "{'cherry', 'orange', 'apple'}\n",
      "{'cherry', 'orange', 'apple'}\n",
      "cherry\n",
      "{'orange', 'apple'}\n",
      "set()\n",
      "{1, 2, 3, 4, 5}\n",
      "{3}\n",
      "{1, 2}\n",
      "{1, 2, 4, 5}\n"
     ]
    }
   ],
   "source": [
    "# add(x)\n",
    "fruits.add(\"orange\")\n",
    "print(fruits)  # Output: {\"apple\", \"banana\", \"cherry\", \"orange\"}\n",
    "\n",
    "# remove(x)\n",
    "fruits.remove(\"banana\")\n",
    "print(fruits)  # Output: {\"apple\", \"cherry\", \"orange\"}\n",
    "\n",
    "# discard(x)\n",
    "fruits.discard(\"banana\")  # No error, even though \"banana\" is not in the set\n",
    "print(fruits)  # Output: {\"apple\", \"cherry\", \"orange\"}\n",
    "\n",
    "# pop()\n",
    "item = fruits.pop()\n",
    "print(item)  # Output: an arbitrary element\n",
    "print(fruits)  # Output: remaining elements\n",
    "\n",
    "# clear()\n",
    "fruits.clear()\n",
    "print(fruits)  # Output: set()\n",
    "\n",
    "# union()\n",
    "set1 = {1, 2, 3}\n",
    "set2 = {3, 4, 5}\n",
    "union_set = set1.union(set2)\n",
    "print(union_set)  # Output: {1, 2, 3, 4, 5}\n",
    "\n",
    "# intersection()\n",
    "intersection_set = set1.intersection(set2)\n",
    "print(intersection_set)  # Output: {3}\n",
    "#intersection can also be expressed with & , which is discussed in the \"Use Case of Set\" section\n",
    "\n",
    "# difference()\n",
    "difference_set = set1.difference(set2)\n",
    "print(difference_set)  # Output: {1, 2}\n",
    "\n",
    "# symmetric_difference()\n",
    "symmetric_difference_set = set1.symmetric_difference(set2)\n",
    "print(symmetric_difference_set)  # Output: {1, 2, 4, 5}\n"
   ]
  },
  {
   "cell_type": "markdown",
   "metadata": {},
   "source": [
    "### **Use cases of SET**"
   ]
  },
  {
   "cell_type": "code",
   "execution_count": 4,
   "metadata": {},
   "outputs": [
    {
     "name": "stdout",
     "output_type": "stream",
     "text": [
      "[1, 2, 3, 4, 5]\n",
      "True\n",
      "True\n",
      "{2, 3}\n",
      "{3}\n",
      "{1, 4}\n"
     ]
    }
   ],
   "source": [
    "#Removing duplicates from a list\n",
    "numbers = [1, 2, 2, 3, 4, 4, 5]\n",
    "unique_numbers = list(set(numbers))\n",
    "print(unique_numbers)  # Output: [1, 2, 3, 4, 5]\n",
    "\n",
    "\n",
    "#Checking subset & superset\n",
    "set1 = {1, 2, 3}\n",
    "set2 = {1, 2}\n",
    "print(set2.issubset(set1))  # Output: True\n",
    "print(set1.issuperset(set2))  # Output: True\n",
    "\n",
    "\n",
    "\n",
    "#finding common elements between two sets( &)\n",
    "set1 = {1, 2, 3}\n",
    "set2 = {2, 3, 4}\n",
    "set3 = {3, 5, 6}\n",
    "common_elements = set1 & set2\n",
    "print(common_elements)  # Output: {2, 3}\n",
    "# Using & operator chaining\n",
    "common_elements = set1 & set2 & set3\n",
    "print(common_elements)  # Output: {3}\n",
    "\n",
    "\n",
    "\n",
    "#finding unique elements(^) \n",
    "set1 = {1, 2, 3}\n",
    "set2 = {2, 3, 4}\n",
    "unique_elements = set1 ^ set2\n",
    "print(unique_elements)  # Output: {1, 4}\n"
   ]
  }
 ],
 "metadata": {
  "kernelspec": {
   "display_name": "Python 3",
   "language": "python",
   "name": "python3"
  },
  "language_info": {
   "codemirror_mode": {
    "name": "ipython",
    "version": 3
   },
   "file_extension": ".py",
   "mimetype": "text/x-python",
   "name": "python",
   "nbconvert_exporter": "python",
   "pygments_lexer": "ipython3",
   "version": "3.12.3"
  }
 },
 "nbformat": 4,
 "nbformat_minor": 2
}
